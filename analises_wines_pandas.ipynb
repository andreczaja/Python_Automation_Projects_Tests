{
 "cells": [
  {
   "cell_type": "code",
   "execution_count": 1,
   "id": "d4899702",
   "metadata": {},
   "outputs": [],
   "source": [
    "import pandas as pd\n",
    "df = pd.read_csv('wine_quality_classification.csv')"
   ]
  },
  {
   "cell_type": "markdown",
   "id": "c90ce159",
   "metadata": {},
   "source": [
    "Qual a quantidade de cada quality_label no data set?"
   ]
  },
  {
   "cell_type": "code",
   "execution_count": 19,
   "id": "939adc3f",
   "metadata": {},
   "outputs": [
    {
     "name": "stdout",
     "output_type": "stream",
     "text": [
      "quality_label\n",
      "high      343\n",
      "low       302\n",
      "medium    355\n",
      "Name: quality_label, dtype: int64\n"
     ]
    }
   ],
   "source": [
    "number_per_quantity_label = df.groupby('quality_label')['quality_label'].count()\n",
    "print(number_per_quantity_label)"
   ]
  },
  {
   "cell_type": "markdown",
   "id": "81bc228d",
   "metadata": {},
   "source": [
    "Dentre os vinhos de quality_label high, qual a média de teor alcoolico?"
   ]
  },
  {
   "cell_type": "code",
   "execution_count": 28,
   "id": "bd629c68",
   "metadata": {},
   "outputs": [
    {
     "name": "stdout",
     "output_type": "stream",
     "text": [
      "11.19\n"
     ]
    }
   ],
   "source": [
    "alcohol_mean_high_ql = df[df['quality_label']=='high']['alcohol'].mean().round(2)\n",
    "print(alcohol_mean_high_ql)"
   ]
  },
  {
   "cell_type": "markdown",
   "id": "76285bc1",
   "metadata": {},
   "source": [
    "Quantos desses vinhos tem mais alcool que a média?"
   ]
  },
  {
   "cell_type": "code",
   "execution_count": 29,
   "id": "2711e351",
   "metadata": {},
   "outputs": [
    {
     "name": "stdout",
     "output_type": "stream",
     "text": [
      "478\n"
     ]
    }
   ],
   "source": [
    "df['Maior_que_media'] = df['alcohol'].apply(lambda x: \"Maior\" if x > alcohol_mean_high_ql else \"Menor\")\n",
    "alcohol_mean_high_ql = df[df['Maior_que_media']=='Maior']['Maior_que_media'].count()\n",
    "print(alcohol_mean_high_ql)"
   ]
  },
  {
   "cell_type": "code",
   "execution_count": 30,
   "id": "6a180307",
   "metadata": {},
   "outputs": [
    {
     "name": "stdout",
     "output_type": "stream",
     "text": [
      "522\n"
     ]
    }
   ],
   "source": [
    "alcohol_mean_high_ql = df[df['Maior_que_media']=='Menor']['Maior_que_media'].count()\n",
    "print(alcohol_mean_high_ql)"
   ]
  },
  {
   "cell_type": "code",
   "execution_count": 31,
   "id": "f5a57a74",
   "metadata": {},
   "outputs": [
    {
     "name": "stdout",
     "output_type": "stream",
     "text": [
      "quality_label  alcohol\n",
      "medium         9.2        12\n",
      "               8.5        10\n",
      "               10.7       10\n",
      "               10.3       10\n",
      "               11.2       10\n",
      "                          ..\n",
      "               8.0         3\n",
      "               14.0        2\n",
      "               10.2        2\n",
      "               9.0         1\n",
      "               11.6        1\n",
      "Name: quality_label, Length: 61, dtype: int64\n"
     ]
    }
   ],
   "source": [
    "df_medium_ql = df[df['quality_label']=='medium']\n",
    "# most_common_alcohol_medium = df_medium_ql['alcohol'].value_counts().idxmax()\n",
    "# print(most_common_alcohol_medium)\n",
    "general_mean_quality_label_alcohol_level = df_medium_ql.groupby(['quality_label','alcohol'])['quality_label'].count()\n",
    "general_mean_quality_label_alcohol_level = general_mean_quality_label_alcohol_level.sort_values(ascending=False)\n",
    "print(general_mean_quality_label_alcohol_level)"
   ]
  }
 ],
 "metadata": {
  "kernelspec": {
   "display_name": ".venv",
   "language": "python",
   "name": "python3"
  },
  "language_info": {
   "codemirror_mode": {
    "name": "ipython",
    "version": 3
   },
   "file_extension": ".py",
   "mimetype": "text/x-python",
   "name": "python",
   "nbconvert_exporter": "python",
   "pygments_lexer": "ipython3",
   "version": "3.13.0"
  }
 },
 "nbformat": 4,
 "nbformat_minor": 5
}
