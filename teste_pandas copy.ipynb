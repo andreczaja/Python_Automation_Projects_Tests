{
 "cells": [
  {
   "cell_type": "code",
   "execution_count": 4,
   "id": "2ac651f1",
   "metadata": {},
   "outputs": [],
   "source": [
    "import pandas as pd\n",
    "df = pd.read_csv('supermarket_sales.csv',sep=';',decimal=',')"
   ]
  },
  {
   "cell_type": "markdown",
   "id": "903c0083",
   "metadata": {},
   "source": [
    "Qual o Faturamento total por filial?"
   ]
  },
  {
   "cell_type": "code",
   "execution_count": 5,
   "id": "1206513f",
   "metadata": {},
   "outputs": [
    {
     "name": "stdout",
     "output_type": "stream",
     "text": [
      "City\n",
      "Mandalay     106197.6720\n",
      "Naypyitaw    110568.7065\n",
      "Yangon       106200.3705\n",
      "Name: Total, dtype: float64\n"
     ]
    }
   ],
   "source": [
    "fat_filial = df.groupby('City')['Total'].sum()\n",
    "print(fat_filial)"
   ]
  },
  {
   "cell_type": "markdown",
   "id": "cde9ba41",
   "metadata": {},
   "source": [
    "Qual o percentual de participação de receita de cada tipo de produto?"
   ]
  },
  {
   "cell_type": "code",
   "execution_count": null,
   "id": "044c3787",
   "metadata": {},
   "outputs": [
    {
     "name": "stdout",
     "output_type": "stream",
     "text": [
      "Product line\n",
      "Electronic accessories    54337.5315\n",
      "Fashion accessories       54305.8950\n",
      "Food and beverages        56144.8440\n",
      "Health and beauty         49193.7390\n",
      "Home and lifestyle        53861.9130\n",
      "Sports and travel         55122.8265\n",
      "Name: Total, dtype: float64\n"
     ]
    }
   ],
   "source": [
    "total_tp = df.groupby('Product line')['Total'].sum()\n",
    "total_general = df['Total'].sum()\n",
    "print(total_tp)"
   ]
  },
  {
   "cell_type": "code",
   "execution_count": 15,
   "id": "fe9d7c54",
   "metadata": {},
   "outputs": [
    {
     "name": "stdout",
     "output_type": "stream",
     "text": [
      "Product line\n",
      "Health and beauty         15.231828\n",
      "Home and lifestyle        16.677232\n",
      "Fashion accessories       16.814702\n",
      "Electronic accessories    16.824497\n",
      "Sports and travel         17.067648\n",
      "Food and beverages        17.384094\n",
      "Name: Total, dtype: float64\n"
     ]
    }
   ],
   "source": [
    "percent_tp = (total_tp / total_general).sort_values() * 100\n",
    "print(percent_tp)"
   ]
  },
  {
   "cell_type": "markdown",
   "id": "01961efe",
   "metadata": {},
   "source": [
    "Como está distribuído o tipo de produto consumido por genero e por filial?"
   ]
  },
  {
   "cell_type": "code",
   "execution_count": null,
   "id": "0cdeff29",
   "metadata": {},
   "outputs": [
    {
     "name": "stdout",
     "output_type": "stream",
     "text": [
      "                                 Total                                 \\\n",
      "City-Gender            Mandalay-Female Mandalay-Male Naypyitaw-Female   \n",
      "Product line                                                            \n",
      "Electronic accessories       8166.5115     8884.9320        8969.2155   \n",
      "Fashion accessories          9081.4920     7331.8245       11519.6865   \n",
      "Food and beverages          10509.9960     4704.8925       15661.1595   \n",
      "Health and beauty            6400.3485    13580.3115        6445.7400   \n",
      "Home and lifestyle           9557.1315     7992.0330        7842.9330   \n",
      "Sports and travel            9212.8155    10775.3835       11246.7285   \n",
      "\n",
      "                                                                 \n",
      "City-Gender            Naypyitaw-Male Yangon-Female Yangon-Male  \n",
      "Product line                                                     \n",
      "Electronic accessories      9999.7590     9966.2955   8350.8180  \n",
      "Fashion accessories        10040.3835     9836.2215   6496.2870  \n",
      "Food and beverages          8105.6955     6999.7620  10163.3385  \n",
      "Health and beauty          10169.5860     5714.8980   6882.8550  \n",
      "Home and lifestyle          6052.6200    12636.8130   9780.3825  \n",
      "Sports and travel           4515.1995     8115.1770  11257.5225  \n"
     ]
    }
   ],
   "source": [
    "df['City-Gender'] = df['City'] +'-' + df['Gender']\n",
    "tp_gender = df.groupby(['Product line', 'City-Gender'])[['Total']].sum().unstack('City-Gender')\n",
    "print(tp_gender)"
   ]
  },
  {
   "cell_type": "markdown",
   "id": "44d3c394",
   "metadata": {},
   "source": [
    "Qual foi o faturamento por mês?"
   ]
  },
  {
   "cell_type": "code",
   "execution_count": 32,
   "id": "885859db",
   "metadata": {},
   "outputs": [
    {
     "name": "stdout",
     "output_type": "stream",
     "text": [
      "Month\n",
      "1    116291.868\n",
      "2     97219.374\n",
      "3    109455.507\n",
      "Name: Total, dtype: float64\n"
     ]
    }
   ],
   "source": [
    "df['Date'] = pd.to_datetime(df['Date'])\n",
    "df['Month'] = df['Date'].apply(lambda x: x.month)\n",
    "fat_mensal = df.groupby('Month')['Total'].sum()\n",
    "print(fat_mensal)"
   ]
  },
  {
   "cell_type": "markdown",
   "id": "bfeb9f9a",
   "metadata": {},
   "source": [
    "Qual foi a média de avaliação por cada filial em janeiro de 2019?"
   ]
  },
  {
   "cell_type": "code",
   "execution_count": null,
   "id": "7fb4963f",
   "metadata": {},
   "outputs": [
    {
     "name": "stdout",
     "output_type": "stream",
     "text": [
      "7.017613636363635\n"
     ]
    }
   ],
   "source": [
    "df['Year'] = df['Date'].apply(lambda x: x.year)\n",
    "df_jan_2019 = df[(df['Year'] ==2019) & (df['Month'] == 1)]['Rating'].mean()\n",
    "print(df_jan_2019)"
   ]
  },
  {
   "cell_type": "markdown",
   "id": "a73697f0",
   "metadata": {},
   "source": [
    "Como se distribui o gasto por tipo de consumidor e seu gênero em cada filial?"
   ]
  },
  {
   "cell_type": "code",
   "execution_count": 44,
   "id": "97a8d11c",
   "metadata": {},
   "outputs": [
    {
     "name": "stdout",
     "output_type": "stream",
     "text": [
      "                        Total                                                \\\n",
      "City-Gender   Mandalay-Female Mandalay-Male Naypyitaw-Female Naypyitaw-Male   \n",
      "Customer type                                                                 \n",
      "Member              26850.432     26854.254        34653.444     22227.8385   \n",
      "Normal              26077.863     26415.123        27032.019     26655.4050   \n",
      "\n",
      "                                         \n",
      "City-Gender   Yangon-Female Yangon-Male  \n",
      "Customer type                            \n",
      "Member           26643.0675  26994.4080  \n",
      "Normal           26626.0995  25936.7955  \n"
     ]
    }
   ],
   "source": [
    "ct_gender_city = df.groupby(['Customer type','City-Gender'])[['Total']].sum().unstack('City-Gender')\n",
    "print(ct_gender_city)"
   ]
  }
 ],
 "metadata": {
  "kernelspec": {
   "display_name": ".venv",
   "language": "python",
   "name": "python3"
  },
  "language_info": {
   "codemirror_mode": {
    "name": "ipython",
    "version": 3
   },
   "file_extension": ".py",
   "mimetype": "text/x-python",
   "name": "python",
   "nbconvert_exporter": "python",
   "pygments_lexer": "ipython3",
   "version": "3.13.0"
  }
 },
 "nbformat": 4,
 "nbformat_minor": 5
}
