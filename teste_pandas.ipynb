{
 "cells": [
  {
   "cell_type": "code",
   "execution_count": 21,
   "id": "2ac651f1",
   "metadata": {},
   "outputs": [],
   "source": [
    "import pandas as pd\n",
    "df = pd.read_csv('supermarket_sales.csv',sep=';',decimal=',')"
   ]
  },
  {
   "cell_type": "markdown",
   "id": "903c0083",
   "metadata": {},
   "source": [
    "Qual o Faturamento total por filial?"
   ]
  },
  {
   "cell_type": "code",
   "execution_count": 63,
   "id": "1fa20cf8",
   "metadata": {},
   "outputs": [
    {
     "name": "stdout",
     "output_type": "stream",
     "text": [
      "City\n",
      "Mandalay     106197.67\n",
      "Naypyitaw    110568.71\n",
      "Yangon       106200.37\n",
      "Name: Total, dtype: float64\n"
     ]
    }
   ],
   "source": [
    "df_agrupado_cidade = df.groupby(\"City\")[\"Total\"].sum().round(2)\n",
    "print(df_agrupado_cidade)"
   ]
  },
  {
   "cell_type": "markdown",
   "id": "cde9ba41",
   "metadata": {},
   "source": [
    "Qual o percentual de participação de receita de cada tipo de produto?"
   ]
  },
  {
   "cell_type": "code",
   "execution_count": 64,
   "id": "1bb44e8d",
   "metadata": {},
   "outputs": [
    {
     "name": "stdout",
     "output_type": "stream",
     "text": [
      "Product line\n",
      "Health and beauty         15.231828\n",
      "Home and lifestyle        16.677232\n",
      "Fashion accessories       16.814702\n",
      "Electronic accessories    16.824497\n",
      "Sports and travel         17.067648\n",
      "Food and beverages        17.384094\n",
      "Name: Total, dtype: float64\n"
     ]
    }
   ],
   "source": [
    "df_agrupado_tipo_produto = df.groupby(\"Product line\")[\"Total\"].sum()\n",
    "soma_total = df_agrupado_tipo_produto.sum()\n",
    "percentual_tipo_produto = (df_agrupado_tipo_produto / soma_total).sort_values() *100\n",
    "print(percentual_tipo_produto)"
   ]
  },
  {
   "cell_type": "markdown",
   "id": "01961efe",
   "metadata": {},
   "source": [
    "Como está distribuído o tipo de produto consumido por genero?"
   ]
  },
  {
   "cell_type": "code",
   "execution_count": 65,
   "id": "dab8f532",
   "metadata": {},
   "outputs": [
    {
     "name": "stdout",
     "output_type": "stream",
     "text": [
      "Product line            Gender\n",
      "Electronic accessories  Female    27102.0225\n",
      "                        Male      27235.5090\n",
      "Fashion accessories     Female    30437.4000\n",
      "                        Male      23868.4950\n",
      "Food and beverages      Female    33170.9175\n",
      "                        Male      22973.9265\n",
      "Health and beauty       Female    18560.9865\n",
      "                        Male      30632.7525\n",
      "Home and lifestyle      Female    30036.8775\n",
      "                        Male      23825.0355\n",
      "Sports and travel       Female    28574.7210\n",
      "                        Male      26548.1055\n",
      "Name: Total, dtype: float64\n"
     ]
    }
   ],
   "source": [
    "df_agrupado_genero_tipo_produto = df.groupby([\"Product line\",\"Gender\"])[\"Total\"].sum()\n",
    "print(df_agrupado_genero_tipo_produto)"
   ]
  },
  {
   "cell_type": "code",
   "execution_count": 66,
   "id": "3804f7e1",
   "metadata": {},
   "outputs": [
    {
     "name": "stdout",
     "output_type": "stream",
     "text": [
      "                             Total            \n",
      "Gender                      Female        Male\n",
      "Product line                                  \n",
      "Electronic accessories  27102.0225  27235.5090\n",
      "Fashion accessories     30437.4000  23868.4950\n",
      "Food and beverages      33170.9175  22973.9265\n",
      "Health and beauty       18560.9865  30632.7525\n",
      "Home and lifestyle      30036.8775  23825.0355\n",
      "Sports and travel       28574.7210  26548.1055\n"
     ]
    }
   ],
   "source": [
    "df_agrupado_genero_tipo_produto = df.groupby([\"Product line\",\"Gender\"])[[\"Total\"]].sum().pivot_table(index='Product line', columns='Gender')\n",
    "print(df_agrupado_genero_tipo_produto)"
   ]
  },
  {
   "cell_type": "markdown",
   "id": "44d3c394",
   "metadata": {},
   "source": [
    "Qual foi o faturamento por mês?"
   ]
  },
  {
   "cell_type": "code",
   "execution_count": 67,
   "id": "41625b98",
   "metadata": {},
   "outputs": [],
   "source": [
    "df['Date'] = pd.to_datetime(df['Date'])\n",
    "df['Month'] = df['Date'].apply(lambda x: x.month)\n",
    "df['Year'] = df['Date'].apply(lambda x: x.year)"
   ]
  },
  {
   "cell_type": "code",
   "execution_count": 68,
   "id": "5c43ddf7",
   "metadata": {},
   "outputs": [
    {
     "name": "stdout",
     "output_type": "stream",
     "text": [
      "Month\n",
      "1    116291.868\n",
      "2     97219.374\n",
      "3    109455.507\n",
      "Name: Total, dtype: float64\n"
     ]
    }
   ],
   "source": [
    "df_faturamento_mes = df.groupby('Month')['Total'].sum()\n",
    "print(df_faturamento_mes)"
   ]
  },
  {
   "cell_type": "markdown",
   "id": "bfeb9f9a",
   "metadata": {},
   "source": [
    "Qual foi a média de avaliação por cada filial em janeiro de 2019?"
   ]
  },
  {
   "cell_type": "code",
   "execution_count": 69,
   "id": "522405db",
   "metadata": {},
   "outputs": [
    {
     "name": "stdout",
     "output_type": "stream",
     "text": [
      "7.017613636363635\n"
     ]
    }
   ],
   "source": [
    "df_rating_jan_2019 = df[(df['Year'] == 2019) &  (df['Month'] == 1)]['Rating'].mean()\n",
    "print(df_rating_jan_2019)"
   ]
  },
  {
   "cell_type": "markdown",
   "id": "a73697f0",
   "metadata": {},
   "source": [
    "Como se distribui o gasto por tipo de consumidor em cada filial?"
   ]
  },
  {
   "cell_type": "code",
   "execution_count": 70,
   "id": "0f31b593",
   "metadata": {},
   "outputs": [
    {
     "name": "stdout",
     "output_type": "stream",
     "text": [
      "                    Total           \n",
      "Customer type      Member     Normal\n",
      "City                                \n",
      "Mandalay       53704.6860  52492.986\n",
      "Naypyitaw      56881.2825  53687.424\n",
      "Yangon         53637.4755  52562.895\n"
     ]
    }
   ],
   "source": [
    "df_ct_filial = df.groupby(['Customer type','City'])[['Total']].sum().pivot_table(index='City', columns= 'Customer type')\n",
    "print(df_ct_filial)"
   ]
  }
 ],
 "metadata": {
  "kernelspec": {
   "display_name": ".venv",
   "language": "python",
   "name": "python3"
  },
  "language_info": {
   "codemirror_mode": {
    "name": "ipython",
    "version": 3
   },
   "file_extension": ".py",
   "mimetype": "text/x-python",
   "name": "python",
   "nbconvert_exporter": "python",
   "pygments_lexer": "ipython3",
   "version": "3.13.0"
  }
 },
 "nbformat": 4,
 "nbformat_minor": 5
}
