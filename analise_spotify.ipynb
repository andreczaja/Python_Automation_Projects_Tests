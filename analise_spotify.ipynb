{
 "cells": [
  {
   "cell_type": "code",
   "execution_count": 2,
   "id": "ffc0e02d",
   "metadata": {},
   "outputs": [],
   "source": [
    "import pandas as pd\n",
    "df = pd.read_csv(\"spotifydataset.csv\")"
   ]
  },
  {
   "cell_type": "markdown",
   "id": "9087143d",
   "metadata": {},
   "source": [
    "Quantidade de generos no df"
   ]
  },
  {
   "cell_type": "code",
   "execution_count": 4,
   "id": "2614414c",
   "metadata": {},
   "outputs": [
    {
     "name": "stdout",
     "output_type": "stream",
     "text": [
      "genres\n",
      "afrobeats                                                                                           10\n",
      "afrobeats, nigerian pop                                                                             10\n",
      "album rock, classic rock, detroit rock, glam metal, glam rock, hard rock, metal, protopunk, rock    10\n",
      "album rock, classic rock, folk rock, mellow gold, soft rock                                         10\n",
      "album rock, classic rock, hard rock, rock                                                           10\n",
      "                                                                                                    ..\n",
      "pov: indie                                                                                          10\n",
      "puerto rican pop, reggaeton, trap latino, urbano latino                                             10\n",
      "reggaeton, reggaeton flow, trap boricua, trap latino, urbano latino                                 10\n",
      "social media pop                                                                                     7\n",
      "trap boricua, urbano latino                                                                         10\n",
      "Name: genres, Length: 80, dtype: int64\n"
     ]
    }
   ],
   "source": [
    "qte_generos = df.groupby('genres')['genres'].count()\n",
    "print(qte_generos)"
   ]
  },
  {
   "cell_type": "markdown",
   "id": "5428baf5",
   "metadata": {},
   "source": [
    "Top 10 maior tempo"
   ]
  },
  {
   "cell_type": "code",
   "execution_count": null,
   "id": "85ec42d9",
   "metadata": {},
   "outputs": [
    {
     "name": "stdout",
     "output_type": "stream",
     "text": [
      "                                        track_name    tempo\n",
      "722                                    Stayed Gone  201.776\n",
      "634             Countryside - Instrumental Version  200.055\n",
      "656                                     PINACOLADA  197.896\n",
      "874                        Scars To Your Beautiful  194.169\n",
      "31                   Fortnight (feat. Post Malone)  192.004\n",
      "462                                 Yo Todo Lo Doy  189.960\n",
      "479                                        Fighter  188.899\n",
      "91                                   Back In Black  188.386\n",
      "583  ONE BEER (feat. Lauren Alaina & Devin Dawson)  186.005\n",
      "176                                  Nobody's Home  185.406\n"
     ]
    }
   ],
   "source": [
    "por_ordenado_tempo = df[[\"track_name\", \"tempo\"]].sort_values(by=[\"tempo\"],ascending=False).head(10)\n",
    "print(por_ordenado_tempo)"
   ]
  },
  {
   "cell_type": "code",
   "execution_count": 41,
   "id": "4883fdd7",
   "metadata": {},
   "outputs": [
    {
     "name": "stdout",
     "output_type": "stream",
     "text": [
      "999     93.071\n",
      "998    103.773\n",
      "997    153.809\n",
      "996    103.890\n",
      "995    108.970\n",
      "        ...   \n",
      "4      118.998\n",
      "3      118.091\n",
      "2       84.726\n",
      "1       97.998\n",
      "0      115.842\n",
      "Name: tempo, Length: 1000, dtype: float64\n"
     ]
    }
   ],
   "source": [
    "por_ordenado_tempo= df.tempo.sort_index(ascending=False)\n",
    "\n",
    "print(por_ordenado_tempo)"
   ]
  }
 ],
 "metadata": {
  "kernelspec": {
   "display_name": ".venv",
   "language": "python",
   "name": "python3"
  },
  "language_info": {
   "codemirror_mode": {
    "name": "ipython",
    "version": 3
   },
   "file_extension": ".py",
   "mimetype": "text/x-python",
   "name": "python",
   "nbconvert_exporter": "python",
   "pygments_lexer": "ipython3",
   "version": "3.13.0"
  }
 },
 "nbformat": 4,
 "nbformat_minor": 5
}
